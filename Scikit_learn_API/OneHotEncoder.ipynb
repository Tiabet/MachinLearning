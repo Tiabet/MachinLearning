{
 "cells": [
  {
   "cell_type": "code",
   "execution_count": 1,
   "id": "8d690036-d27c-4db4-b7c6-072216ab6192",
   "metadata": {},
   "outputs": [],
   "source": [
    "from sklearn.preprocessing import OneHotEncoder\n",
    "import numpy as np"
   ]
  },
  {
   "cell_type": "code",
   "execution_count": 2,
   "id": "421ac3d8-cfcd-4b20-9d0d-42f21c42d790",
   "metadata": {},
   "outputs": [],
   "source": [
    "items = ['A','B','C']"
   ]
  },
  {
   "cell_type": "code",
   "execution_count": 3,
   "id": "7dea201e-d70b-4070-9329-cf43db556f89",
   "metadata": {},
   "outputs": [],
   "source": [
    "items = np.array(items).reshape(-1,1)"
   ]
  },
  {
   "cell_type": "code",
   "execution_count": 4,
   "id": "63bb3ef1-08f9-4605-9189-0342e24e409b",
   "metadata": {},
   "outputs": [
    {
     "data": {
      "text/plain": [
       "array([['A'],\n",
       "       ['B'],\n",
       "       ['C']], dtype='<U1')"
      ]
     },
     "execution_count": 4,
     "metadata": {},
     "output_type": "execute_result"
    }
   ],
   "source": [
    "#2차원 데이터로 바꿔주는 과정이 필요\n",
    "items"
   ]
  },
  {
   "cell_type": "code",
   "execution_count": 5,
   "id": "81528f27-5550-4efb-b0e0-46849053913a",
   "metadata": {},
   "outputs": [],
   "source": [
    "oh_encoder = OneHotEncoder()"
   ]
  },
  {
   "cell_type": "code",
   "execution_count": 6,
   "id": "88b03320-27bc-4c56-be5a-abbe47c65f60",
   "metadata": {},
   "outputs": [
    {
     "data": {
      "text/plain": [
       "OneHotEncoder()"
      ]
     },
     "execution_count": 6,
     "metadata": {},
     "output_type": "execute_result"
    }
   ],
   "source": [
    "oh_encoder.fit(items)"
   ]
  },
  {
   "cell_type": "code",
   "execution_count": 7,
   "id": "e6de0aba-c399-4bde-baa6-7061bbc120ab",
   "metadata": {},
   "outputs": [],
   "source": [
    "oh_labels = oh_encoder.transform(items)"
   ]
  },
  {
   "cell_type": "code",
   "execution_count": 8,
   "id": "542be9ac-f0bc-4ef3-b054-b85a4798f0c0",
   "metadata": {},
   "outputs": [
    {
     "data": {
      "text/plain": [
       "<3x3 sparse matrix of type '<class 'numpy.float64'>'\n",
       "\twith 3 stored elements in Compressed Sparse Row format>"
      ]
     },
     "execution_count": 8,
     "metadata": {},
     "output_type": "execute_result"
    }
   ],
   "source": [
    "oh_labels"
   ]
  },
  {
   "cell_type": "code",
   "execution_count": 9,
   "id": "2e0a69f4-0b86-46f5-aae1-940b40bbf42a",
   "metadata": {},
   "outputs": [
    {
     "data": {
      "text/plain": [
       "array([[1., 0., 0.],\n",
       "       [0., 1., 0.],\n",
       "       [0., 0., 1.]])"
      ]
     },
     "execution_count": 9,
     "metadata": {},
     "output_type": "execute_result"
    }
   ],
   "source": [
    "oh_labels.toarray()"
   ]
  },
  {
   "cell_type": "code",
   "execution_count": null,
   "id": "6480ecfc-922a-465a-b6d5-d0809a4d3334",
   "metadata": {},
   "outputs": [],
   "source": []
  }
 ],
 "metadata": {
  "kernelspec": {
   "display_name": "Python 3 (ipykernel)",
   "language": "python",
   "name": "python3"
  },
  "language_info": {
   "codemirror_mode": {
    "name": "ipython",
    "version": 3
   },
   "file_extension": ".py",
   "mimetype": "text/x-python",
   "name": "python",
   "nbconvert_exporter": "python",
   "pygments_lexer": "ipython3",
   "version": "3.9.13"
  }
 },
 "nbformat": 4,
 "nbformat_minor": 5
}
