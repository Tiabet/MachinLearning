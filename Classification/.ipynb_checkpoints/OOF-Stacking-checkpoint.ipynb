{
 "cells": [
  {
   "cell_type": "code",
   "execution_count": null,
   "id": "1f2ca701-5ce6-4ee5-b052-54459c6d2195",
   "metadata": {},
   "outputs": [],
   "source": [
    "# Example code for base model (LGBM)\n",
    "import lightgbm as lgb\n",
    "from sklearn.model_selection import KFold\n",
    "\n",
    "# Assuming X_train, y_train are your training features and labels\n",
    "kf = KFold(n_splits=5, random_state=42, shuffle=True)\n",
    "\n",
    "lgbm_predictions = []\n",
    "\n",
    "for train_index, val_index in kf.split(X_train):\n",
    "    X_train_fold, X_val_fold = X_train[train_index], X_train[val_index]\n",
    "    y_train_fold, y_val_fold = y_train[train_index], y_train[val_index]\n",
    "\n",
    "    lgbm_model = lgb.LGBMRegressor()\n",
    "    lgbm_model.fit(X_train_fold, y_train_fold)\n",
    "\n",
    "    lgbm_fold_predictions = lgbm_model.predict(X_val_fold)\n",
    "    lgbm_predictions.extend(lgbm_fold_predictions)\n",
    "\n",
    "# Now lgbm_predictions contains the out-of-fold predictions\n",
    "\n",
    "# Example code for final model (Neural Network using TensorFlow/Keras)\n",
    "from tensorflow import keras\n",
    "from tensorflow.keras import layers\n",
    "\n",
    "# Assuming X_train_nn is your original features, and X_train_lgbm are the out-of-fold predictions\n",
    "X_train_nn = np.concatenate([X_train_nn, np.array(lgbm_predictions).reshape(-1, 1)], axis=1)\n",
    "\n",
    "# Define your neural network architecture\n",
    "model = keras.Sequential([\n",
    "    layers.Dense(64, activation='relu', input_dim=X_train_nn.shape[1]),\n",
    "    layers.Dense(1, activation='linear')\n",
    "])\n",
    "\n",
    "# Compile the model\n",
    "model.compile(optimizer='adam', loss='mean_squared_error')\n",
    "\n",
    "# Train the model\n",
    "model.fit(X_train_nn, y_train, epochs=10, batch_size=32, validation_split=0.2)\n"
   ]
  }
 ],
 "metadata": {
  "kernelspec": {
   "display_name": "Python 3 (ipykernel)",
   "language": "python",
   "name": "python3"
  },
  "language_info": {
   "codemirror_mode": {
    "name": "ipython",
    "version": 3
   },
   "file_extension": ".py",
   "mimetype": "text/x-python",
   "name": "python",
   "nbconvert_exporter": "python",
   "pygments_lexer": "ipython3",
   "version": "3.9.13"
  }
 },
 "nbformat": 4,
 "nbformat_minor": 5
}
