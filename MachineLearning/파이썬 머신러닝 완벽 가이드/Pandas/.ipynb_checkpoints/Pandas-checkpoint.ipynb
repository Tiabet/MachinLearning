{
 "cells": [
  {
   "cell_type": "code",
   "execution_count": 5,
   "id": "5713c36c-e2f6-4f0e-8785-fb4668174d97",
   "metadata": {},
   "outputs": [
    {
     "name": "stdout",
     "output_type": "stream",
     "text": [
      "titanic 변수 type: <class 'pandas.core.frame.DataFrame'>\n",
      "<class 'pandas.core.frame.DataFrame'>\n",
      "RangeIndex: 891 entries, 0 to 890\n",
      "Data columns (total 12 columns):\n",
      " #   Column       Non-Null Count  Dtype  \n",
      "---  ------       --------------  -----  \n",
      " 0   PassengerId  891 non-null    int64  \n",
      " 1   Survived     891 non-null    int64  \n",
      " 2   Pclass       891 non-null    int64  \n",
      " 3   Name         891 non-null    object \n",
      " 4   Sex          891 non-null    object \n",
      " 5   Age          714 non-null    float64\n",
      " 6   SibSp        891 non-null    int64  \n",
      " 7   Parch        891 non-null    int64  \n",
      " 8   Ticket       891 non-null    object \n",
      " 9   Fare         891 non-null    float64\n",
      " 10  Cabin        204 non-null    object \n",
      " 11  Embarked     889 non-null    object \n",
      "dtypes: float64(2), int64(5), object(5)\n",
      "memory usage: 83.7+ KB\n",
      "<class 'pandas.core.series.Series'>\n",
      "3    491\n",
      "1    216\n",
      "2    184\n",
      "Name: Pclass, dtype: int64\n"
     ]
    }
   ],
   "source": [
    "import pandas as pd\n",
    "titanic_df = pd.read_csv('train.csv')\n",
    "\n",
    "print('titanic 변수 type:',type(titanic_df))\n",
    "\n",
    "titanic_df.info()"
   ]
  },
  {
   "cell_type": "code",
   "execution_count": 6,
   "id": "801f2b67-0a4f-4c12-886a-1ae2b9fa2927",
   "metadata": {},
   "outputs": [
    {
     "name": "stdout",
     "output_type": "stream",
     "text": [
      "<class 'pandas.core.series.Series'>\n",
      "3    491\n",
      "1    216\n",
      "2    184\n",
      "Name: Pclass, dtype: int64\n"
     ]
    }
   ],
   "source": [
    "value_counts = titanic_df['Pclass'].value_counts()\n",
    "print(type(value_counts))\n",
    "print(value_counts)"
   ]
  },
  {
   "cell_type": "code",
   "execution_count": 7,
   "id": "2f611ddf-4a95-4e5b-99ff-57134c51acb4",
   "metadata": {},
   "outputs": [
    {
     "name": "stdout",
     "output_type": "stream",
     "text": [
      "titanic_df 데이터 건수: 891\n",
      "기본 설정인 dropna=True로 value_counts()\n",
      "S    644\n",
      "C    168\n",
      "Q     77\n",
      "Name: Embarked, dtype: int64\n",
      "S      644\n",
      "C      168\n",
      "Q       77\n",
      "NaN      2\n",
      "Name: Embarked, dtype: int64\n"
     ]
    }
   ],
   "source": [
    "print('titanic_df 데이터 건수:', titanic_df.shape[0])\n",
    "print('기본 설정인 dropna=True로 value_counts()')\n",
    "# value_counts()는 디폴트로 dropna=True이므로 value_counts(dropna=True)와 동일.\n",
    "print(titanic_df['Embarked'].value_counts())\n",
    "print(titanic_df['Embarked'].value_counts(dropna=False))"
   ]
  },
  {
   "cell_type": "code",
   "execution_count": 8,
   "id": "b4b4e732-ac47-4b86-842f-1fce40ffc3e2",
   "metadata": {},
   "outputs": [
    {
     "name": "stdout",
     "output_type": "stream",
     "text": [
      "array1 shape: (3,)\n",
      "1차원 리스트로 만든 DataFrame:\n",
      "    col1\n",
      "0     1\n",
      "1     2\n",
      "2     3\n",
      "1차원 ndarray로 만든 DataFrame:\n",
      "    col1\n",
      "0     1\n",
      "1     2\n",
      "2     3\n"
     ]
    }
   ],
   "source": [
    "import numpy as np\n",
    "\n",
    "col_name1=['col1']\n",
    "list1 = [1, 2, 3]\n",
    "array1 = np.array(list1)\n",
    "print('array1 shape:', array1.shape )\n",
    "# 리스트를 이용해 DataFrame 생성.\n",
    "df_list1 = pd.DataFrame(list1, columns=col_name1)\n",
    "print('1차원 리스트로 만든 DataFrame:\\n', df_list1)\n",
    "# 넘파이 ndarray를 이용해 DataFrame 생성.\n",
    "df_array1 = pd.DataFrame(array1, columns=col_name1)\n",
    "print('1차원 ndarray로 만든 DataFrame:\\n', df_array1)"
   ]
  },
  {
   "cell_type": "code",
   "execution_count": 9,
   "id": "9ac12f5e-3c9a-47ea-9d26-b0b91a7b202b",
   "metadata": {},
   "outputs": [
    {
     "name": "stdout",
     "output_type": "stream",
     "text": [
      "딕셔너리로 만든 DataFrame:\n",
      "    col1  col2  col3\n",
      "0     1     2     3\n",
      "1    11    22    33\n"
     ]
    }
   ],
   "source": [
    "# Key는 컬럼명으로 매핑, Value는 리스트 형(또는 ndarray)\n",
    "dict = {'col1':[1, 11], 'col2':[2, 22], 'col3':[3, 33]}\n",
    "df_dict = pd.DataFrame(dict)\n",
    "print('딕셔너리로 만든 DataFrame:\\n', df_dict)"
   ]
  },
  {
   "cell_type": "code",
   "execution_count": 10,
   "id": "8d8c0ac2-6f6b-4a74-87bf-a79f6fa01ffe",
   "metadata": {},
   "outputs": [
    {
     "name": "stdout",
     "output_type": "stream",
     "text": [
      "df_dict.values 타입: <class 'numpy.ndarray'> df_dict.values shape: (2, 3)\n",
      "[[ 1  2  3]\n",
      " [11 22 33]]\n"
     ]
    }
   ],
   "source": [
    "# DataFrame을 ndarray로 변환\n",
    "array3 = df_dict.values\n",
    "print('df_dict.values 타입:', type(array3), 'df_dict.values shape:', array3.shape)\n",
    "print(array3)"
   ]
  },
  {
   "cell_type": "code",
   "execution_count": 11,
   "id": "fead02be-3b3b-4ab7-bfab-8e024fb04e91",
   "metadata": {},
   "outputs": [
    {
     "name": "stdout",
     "output_type": "stream",
     "text": [
      "df_dict.values.tolist() 타입: <class 'list'>\n",
      "[[1, 2, 3], [11, 22, 33]]\n",
      "\n",
      " df_dict.to_dict() 타입: <class 'dict'>\n",
      "{'col1': [1, 11], 'col2': [2, 22], 'col3': [3, 33]}\n"
     ]
    }
   ],
   "source": [
    "# DataFrame을 리스트로 변환\n",
    "list3 = df_dict.values.tolist()\n",
    "print('df_dict.values.tolist() 타입:', type(list3))\n",
    "print(list3)\n",
    "\n",
    "# DataFrame을 딕셔너리로 변환\n",
    "dict3 = df_dict.to_dict('list')\n",
    "print('\\n df_dict.to_dict() 타입:', type(dict3))\n",
    "print(dict3)"
   ]
  },
  {
   "cell_type": "code",
   "execution_count": null,
   "id": "c90d598f-ebc3-4e21-b8a4-24e62e89854a",
   "metadata": {},
   "outputs": [],
   "source": []
  }
 ],
 "metadata": {
  "kernelspec": {
   "display_name": "Python 3 (ipykernel)",
   "language": "python",
   "name": "python3"
  },
  "language_info": {
   "codemirror_mode": {
    "name": "ipython",
    "version": 3
   },
   "file_extension": ".py",
   "mimetype": "text/x-python",
   "name": "python",
   "nbconvert_exporter": "python",
   "pygments_lexer": "ipython3",
   "version": "3.9.13"
  }
 },
 "nbformat": 4,
 "nbformat_minor": 5
}
