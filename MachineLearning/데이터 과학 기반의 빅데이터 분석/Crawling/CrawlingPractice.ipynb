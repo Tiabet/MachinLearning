{
 "cells": [
  {
   "cell_type": "markdown",
   "id": "c3287d20",
   "metadata": {},
   "source": [
    "# 정적 웹페이지 크롤"
   ]
  },
  {
   "cell_type": "code",
   "execution_count": 3,
   "id": "783d9b40",
   "metadata": {},
   "outputs": [],
   "source": [
    "from bs4 import BeautifulSoup"
   ]
  },
  {
   "cell_type": "code",
   "execution_count": 4,
   "id": "5bbbff0f",
   "metadata": {},
   "outputs": [],
   "source": [
    "html = '<h1 id=\"title\">한빛네트워크</h1><div class=\"top\"<ul class=\"menu\"><li><a href=\"http://www.hanbit.co.kr/member/login.html\"class=\"login\">로그인</a><li></ul><ul calss=\"brand\"><li><a href=\"http://www.hanbit.co.kr/media/\">한빛미디어</a><li><li><a href=\"http://www.hanbit.co.kr/academy/\">한빛아카데미</a><li></ul></div>'"
   ]
  },
  {
   "cell_type": "code",
   "execution_count": 5,
   "id": "84e4e371",
   "metadata": {},
   "outputs": [],
   "source": [
    "soup=BeautifulSoup(html,'html.parser') #parameter : 분석할 문자열 객체, 사용할 분석기"
   ]
  },
  {
   "cell_type": "code",
   "execution_count": 6,
   "id": "0bdf211e",
   "metadata": {},
   "outputs": [
    {
     "name": "stdout",
     "output_type": "stream",
     "text": [
      "<h1 id=\"title\">\n",
      " 한빛네트워크\n",
      "</h1>\n",
      "<div <ul=\"\" class=\"menu\">\n",
      " <li>\n",
      "  <a class=\"login\" href=\"http://www.hanbit.co.kr/member/login.html\">\n",
      "   로그인\n",
      "  </a>\n",
      "  <li>\n",
      "   <ul calss=\"brand\">\n",
      "    <li>\n",
      "     <a href=\"http://www.hanbit.co.kr/media/\">\n",
      "      한빛미디어\n",
      "     </a>\n",
      "     <li>\n",
      "      <li>\n",
      "       <a href=\"http://www.hanbit.co.kr/academy/\">\n",
      "        한빛아카데미\n",
      "       </a>\n",
      "       <li>\n",
      "       </li>\n",
      "      </li>\n",
      "     </li>\n",
      "    </li>\n",
      "   </ul>\n",
      "  </li>\n",
      " </li>\n",
      "</div>\n"
     ]
    }
   ],
   "source": [
    "print(soup.prettify())"
   ]
  },
  {
   "cell_type": "code",
   "execution_count": 12,
   "id": "47d4f182",
   "metadata": {},
   "outputs": [
    {
     "name": "stdout",
     "output_type": "stream",
     "text": [
      "<h1 id=\"title\">한빛네트워크</h1>\n",
      "<div <ul=\"\" class=\"menu\"><li><a class=\"login\" href=\"http://www.hanbit.co.kr/member/login.html\">로그인</a><li><ul calss=\"brand\"><li><a href=\"http://www.hanbit.co.kr/media/\">한빛미디어</a><li><li><a href=\"http://www.hanbit.co.kr/academy/\">한빛아카데미</a><li></li></li></li></li></ul></li></li></div>\n",
      "<ul calss=\"brand\"><li><a href=\"http://www.hanbit.co.kr/media/\">한빛미디어</a><li><li><a href=\"http://www.hanbit.co.kr/academy/\">한빛아카데미</a><li></li></li></li></li></ul>\n",
      "<li><a class=\"login\" href=\"http://www.hanbit.co.kr/member/login.html\">로그인</a><li><ul calss=\"brand\"><li><a href=\"http://www.hanbit.co.kr/media/\">한빛미디어</a><li><li><a href=\"http://www.hanbit.co.kr/academy/\">한빛아카데미</a><li></li></li></li></li></ul></li></li>\n",
      "<a class=\"login\" href=\"http://www.hanbit.co.kr/member/login.html\">로그인</a>\n"
     ]
    }
   ],
   "source": [
    "tag_h1=soup.h1\n",
    "tag_div=soup.div\n",
    "tag_ul=soup.ul\n",
    "tag_li=soup.li\n",
    "tag_a=soup.a\n",
    "\n",
    "print(tag_h1)\n",
    "print(tag_div)\n",
    "print(tag_ul)\n",
    "print(tag_li)\n",
    "print(tag_a)"
   ]
  },
  {
   "cell_type": "code",
   "execution_count": 10,
   "id": "22c23145",
   "metadata": {},
   "outputs": [
    {
     "data": {
      "text/plain": [
       "[<ul calss=\"brand\"><li><a href=\"http://www.hanbit.co.kr/media/\">한빛미디어</a><li><li><a href=\"http://www.hanbit.co.kr/academy/\">한빛아카데미</a><li></li></li></li></li></ul>]"
      ]
     },
     "execution_count": 10,
     "metadata": {},
     "output_type": "execute_result"
    }
   ],
   "source": [
    "tag_ul_all=soup.find_all(\"ul\")\n",
    "print(tag_ul_all)\n",
    "tag_li_all=soup.find_all(\"li\")\n",
    "print(tag_li_all)"
   ]
  },
  {
   "cell_type": "code",
   "execution_count": 13,
   "id": "35548e97",
   "metadata": {},
   "outputs": [
    {
     "data": {
      "text/plain": [
       "{'href': 'http://www.hanbit.co.kr/member/login.html', 'class': ['login']}"
      ]
     },
     "execution_count": 13,
     "metadata": {},
     "output_type": "execute_result"
    }
   ],
   "source": [
    "tag_a.attrs"
   ]
  },
  {
   "cell_type": "code",
   "execution_count": 15,
   "id": "e5e41613",
   "metadata": {},
   "outputs": [
    {
     "data": {
      "text/plain": [
       "<ul calss=\"brand\"><li><a href=\"http://www.hanbit.co.kr/media/\">한빛미디어</a><li><li><a href=\"http://www.hanbit.co.kr/academy/\">한빛아카데미</a><li></li></li></li></li></ul>"
      ]
     },
     "execution_count": 15,
     "metadata": {},
     "output_type": "execute_result"
    }
   ],
   "source": [
    "tag_ul_2=soup.find('ul',attrs={'calss':'brand'})\n",
    "tag_ul_2"
   ]
  },
  {
   "cell_type": "code",
   "execution_count": 16,
   "id": "dbe88c20",
   "metadata": {},
   "outputs": [
    {
     "data": {
      "text/plain": [
       "<h1 id=\"title\">한빛네트워크</h1>"
      ]
     },
     "execution_count": 16,
     "metadata": {},
     "output_type": "execute_result"
    }
   ],
   "source": [
    "title=soup.find(id=\"title\")\n",
    "title"
   ]
  },
  {
   "cell_type": "code",
   "execution_count": 17,
   "id": "4f0c9f5a",
   "metadata": {},
   "outputs": [
    {
     "data": {
      "text/plain": [
       "'한빛네트워크'"
      ]
     },
     "execution_count": 17,
     "metadata": {},
     "output_type": "execute_result"
    }
   ],
   "source": [
    "title.string"
   ]
  },
  {
   "cell_type": "code",
   "execution_count": null,
   "id": "625c78e7",
   "metadata": {},
   "outputs": [],
   "source": []
  }
 ],
 "metadata": {
  "kernelspec": {
   "display_name": "Python 3 (ipykernel)",
   "language": "python",
   "name": "python3"
  },
  "language_info": {
   "codemirror_mode": {
    "name": "ipython",
    "version": 3
   },
   "file_extension": ".py",
   "mimetype": "text/x-python",
   "name": "python",
   "nbconvert_exporter": "python",
   "pygments_lexer": "ipython3",
   "version": "3.9.13"
  }
 },
 "nbformat": 4,
 "nbformat_minor": 5
}
