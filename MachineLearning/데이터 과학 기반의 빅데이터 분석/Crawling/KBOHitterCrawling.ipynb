{
 "cells": [
  {
   "cell_type": "code",
   "execution_count": 1,
   "id": "9195700d",
   "metadata": {},
   "outputs": [],
   "source": [
    "from bs4 import BeautifulSoup\n",
    "import urllib.request\n",
    "import datetime\n",
    "import pandas as pd\n",
    "\n",
    "result = []\n",
    "\n",
    "Stats_url='https://www.koreabaseball.com/Record/Player/HitterDetail/Daily.aspx?playerId=62947'\n",
    "html = urllib.request.urlopen(Stats_url)\n",
    "soupStats=BeautifulSoup(html,'html.parser')\n",
    "\n",
    "tag_tbody=soupStats.find_all('tbody')\n",
    "\n",
    "format = '%Y.%m.%d'\n",
    "\n",
    "for tbody in tag_tbody:\n",
    "    for stat in tbody.find_all('tr'):\n",
    "        stat_td=stat.find_all('td')\n",
    "        stat_date=\"2022.\"+stat_td[0].string\n",
    "        dt_datetime = datetime.datetime.strptime(stat_date,format)#경기날짜\n",
    "        stat_opposite=stat_td[1].string #상대\n",
    "        stat_PA=stat_td[3].string #타격\n",
    "        stat_AB=stat_td[4].string #타수\n",
    "        stat_R=stat_td[5].string #득점\n",
    "        stat_H=stat_td[6].string #안타\n",
    "        stat_2B=stat_td[7].string #2루타\n",
    "        stat_3B=stat_td[8].string #3루타\n",
    "        stat_HR=stat_td[9].string #홈런\n",
    "        stat_RBI=stat_td[10].string #타점\n",
    "        stat_SB=stat_td[11].string #도루\n",
    "        stat_BB=stat_td[13].string #볼넷\n",
    "        stat_HBP=stat_td[14].string #사구\n",
    "        stat_SO=stat_td[15].string #삼진\n",
    "        stat_GDP=stat_td[16].string #병살타\n",
    "        stat_AVG=stat_td[17].string #시즌타율\n",
    "        result.append([dt_datetime]+[stat_opposite]+[stat_PA]+[stat_AB]+\n",
    "                  [stat_R]+[stat_H]+[stat_2B]+[stat_3B]+[stat_HR]+[stat_RBI]+\n",
    "                      [stat_SB]+[stat_BB]+[stat_HBP]+[stat_SO]+[stat_GDP]+[stat_AVG])\n",
    "        \n",
    "df = pd.DataFrame(result,columns=('날짜', '상대', '타격','타수','득점','안타','2루타',\n",
    "                                  '3루타','홈런','타점','도루','볼넷','사구','삼진','병살타','시즌타율'))\n",
    "df.to_csv('./나성범.csv',encoding='cp949',mode='w',index=False)\n",
    "\n",
    "result=[] #result 초기화"
   ]
  },
  {
   "cell_type": "code",
   "execution_count": null,
   "id": "3f789646",
   "metadata": {},
   "outputs": [],
   "source": []
  }
 ],
 "metadata": {
  "kernelspec": {
   "display_name": "Python 3 (ipykernel)",
   "language": "python",
   "name": "python3"
  },
  "language_info": {
   "codemirror_mode": {
    "name": "ipython",
    "version": 3
   },
   "file_extension": ".py",
   "mimetype": "text/x-python",
   "name": "python",
   "nbconvert_exporter": "python",
   "pygments_lexer": "ipython3",
   "version": "3.9.13"
  }
 },
 "nbformat": 4,
 "nbformat_minor": 5
}
